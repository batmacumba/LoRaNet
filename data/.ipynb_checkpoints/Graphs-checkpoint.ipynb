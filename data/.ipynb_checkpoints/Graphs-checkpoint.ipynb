{
 "cells": [
  {
   "cell_type": "code",
   "execution_count": 3,
   "metadata": {
    "scrolled": true
   },
   "outputs": [],
   "source": [
    "import matplotlib.pyplot as plt\n",
    "from statistics import mean\n",
    "import seaborn as sns\n",
    "import numpy as np\n",
    "sns.set(font='Franklin Gothic Book', rc={\n",
    " 'axes.axisbelow': False,\n",
    " 'axes.edgecolor': 'lightgrey',\n",
    " 'axes.facecolor': 'None',\n",
    " 'axes.grid': False,\n",
    " 'axes.labelcolor': 'dimgrey',\n",
    " 'axes.spines.right': False,\n",
    " 'axes.spines.top': False,\n",
    " 'figure.facecolor': 'white',\n",
    " 'lines.solid_capstyle': 'round',\n",
    " 'patch.edgecolor': 'w',\n",
    " 'patch.force_edgecolor': True,\n",
    " 'text.color': 'dimgrey',\n",
    " 'xtick.bottom': False,\n",
    " 'xtick.color': 'dimgrey',\n",
    " 'xtick.direction': 'out',\n",
    " 'xtick.top': False,\n",
    " 'ytick.color': 'dimgrey',\n",
    " 'ytick.direction': 'out',\n",
    " 'ytick.left': False,\n",
    " 'ytick.right': False})\n",
    "sns.set_context(\"notebook\", rc={\"font.size\":16,\n",
    "                                \"axes.titlesize\":20,\n",
    "                                \"axes.labelsize\":18})\n"
   ]
  },
  {
   "cell_type": "code",
   "execution_count": 42,
   "metadata": {
    "scrolled": true
   },
   "outputs": [
    {
     "data": {
      "image/png": "[encoded data removed]",
      "text/plain": [
       "<Figure size 432x288 with 1 Axes>"
      ]
     },
     "metadata": {},
     "output_type": "display_data"
    }
   ],
   "source": [
    "# Test 1\n",
    "\n",
    "def add_value_label(x_list,y_list):\n",
    "    for i in range(0, len(x_list)):\n",
    "        plt.text(i,y_list[i]/2,y_list[i], ha=\"center\")\n",
    "\n",
    "# Parse Files    \n",
    "one_hop_data = open('experiment_1_route_construction/1_hop_data').readlines()\n",
    "one_hop_data = [int(i) for i in one_hop_data]\n",
    "two_hop_data = open('experiment_1_route_construction/2_hop_data').readlines()\n",
    "two_hop_data = [int(i) for i in two_hop_data]\n",
    "three_hop_data = open('experiment_1_route_construction/3_hop_data').readlines()\n",
    "three_hop_data = [int(i) for i in three_hop_data]\n",
    "# Calculate the average\n",
    "one_hop_mean = np.mean(one_hop_data)\n",
    "two_hop_mean = np.mean(two_hop_data)\n",
    "three_hop_mean = np.mean(three_hop_data)\n",
    "# Calculate the standard deviation\n",
    "one_hop_std = np.std(one_hop_data)\n",
    "two_hop_std = np.std(two_hop_data)\n",
    "three_hop_std = np.std(three_hop_data)\n",
    "# Create lists for the plot\n",
    "x_labels = ['1-hop', '2-hop', '3-hop']\n",
    "x_pos = np.arange(len(x_labels))\n",
    "latencies = [one_hop_mean, two_hop_mean, three_hop_mean]\n",
    "error = [one_hop_std, two_hop_std, three_hop_std]\n",
    "# Build the plot\n",
    "fig, ax = plt.subplots()\n",
    "ax.bar(x_pos, latencies, yerr=error, align='center', alpha=0.5, ecolor='black', capsize=10)\n",
    "add_value_label(x_labels, latencies)\n",
    "ax.set_ylabel('Milliseconds', labelpad=10)\n",
    "ax.set_xlabel('Hop Count', labelpad=10)\n",
    "ax.set_xticks(x_pos)\n",
    "ax.set_xticklabels(x_labels)\n",
    "# ax.set_title('')\n",
    "# ax.yaxis.grid(True)\n",
    "\n",
    "# Save the figure and show\n",
    "# plt.tight_layout()\n",
    "plt.show()\n",
    "# plt.savefig('test1.png')\n",
    "# plt.savefig('test1.png', bbox_inches='tight')"
   ]
  }
 ],
 "metadata": {
  "kernelspec": {
   "display_name": "Python 3",
   "language": "python",
   "name": "python3"
  },
  "language_info": {
   "codemirror_mode": {
    "name": "ipython",
    "version": 3
   },
   "file_extension": ".py",
   "mimetype": "text/x-python",
   "name": "python",
   "nbconvert_exporter": "python",
   "pygments_lexer": "ipython3",
   "version": "3.6.9"
  }
 },
 "nbformat": 4,
 "nbformat_minor": 4
}
